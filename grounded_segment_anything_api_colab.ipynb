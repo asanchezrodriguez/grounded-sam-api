{
  "cells": [
    {
      "cell_type": "markdown",
      "source": [
        "PART 1 - PREPARE THE SYSTEM BY INSTALLING NECESSARY REQUIREMENTS"
      ],
      "metadata": {
        "id": "d_04SlKE6tSG"
      }
    },
    {
      "cell_type": "code",
      "execution_count": 11,
      "metadata": {
        "colab": {
          "base_uri": "https://localhost:8080/"
        },
        "id": "YyaHcAkaOt7b",
        "outputId": "3725540c-764a-416e-cdb6-da46385dd0ee"
      },
      "outputs": [
        {
          "output_type": "stream",
          "name": "stdout",
          "text": [
            "/content\n",
            "\n",
            "Download Results:\n",
            "gid   |stat|avg speed  |path/URI\n",
            "======+====+===========+=======================================================\n",
            "b29889|\u001b[1;32mOK\u001b[0m  |       0B/s|/content/sam_vit_h_4b8939.pth\n",
            "\n",
            "Status Legend:\n",
            "(OK):download completed.\n",
            "./grounded-sam-api exists already...Removing...\n",
            "Directory ./grounded-sam-api was successfully removed.\n",
            "Cloning into 'grounded-sam-api'...\n",
            "remote: Enumerating objects: 401, done.\u001b[K\n",
            "remote: Counting objects: 100% (401/401), done.\u001b[K\n",
            "remote: Compressing objects: 100% (237/237), done.\u001b[K\n",
            "remote: Total 401 (delta 171), reused 385 (delta 158), pack-reused 0\u001b[K\n",
            "Receiving objects: 100% (401/401), 40.38 MiB | 21.12 MiB/s, done.\n",
            "Resolving deltas: 100% (171/171), done.\n",
            "/content/grounded-sam-api\n",
            "/content/grounded-sam-api/GroundingDINO\n",
            "  Preparing metadata (setup.py) ... \u001b[?25l\u001b[?25hdone\n",
            "  Building wheel for groundingdino (setup.py) ... \u001b[?25l\u001b[?25hdone\n",
            "/content/grounded-sam-api/segment_anything\n",
            "  Preparing metadata (setup.py) ... \u001b[?25l\u001b[?25hdone\n",
            "  Building wheel for segment-anything (setup.py) ... \u001b[?25l\u001b[?25hdone\n"
          ]
        }
      ],
      "source": [
        "import shutil\n",
        "import os\n",
        "\n",
        "%cd /content\n",
        "!pip install -q torch==2.0.0+cu118 torchvision==0.15.1+cu118 torchaudio==2.0.1+cu118 torchtext==0.15.1 torchdata==0.6.0 --extra-index-url https://download.pytorch.org/whl/cu118 -U\n",
        "!pip install -q xformers==0.0.18 triton==2.0.0 -U\n",
        "\n",
        "!apt-get -y install -qq aria2\n",
        "!aria2c --console-log-level=error -c -x 16 -s 16 -k 1M https://huggingface.co/camenduru/ovseg/resolve/main/sam_vit_h_4b8939.pth -d /content -o sam_vit_h_4b8939.pth\n",
        "\n",
        "dir_path = \"./grounded-sam-api\"\n",
        "if os.path.exists(dir_path):\n",
        "  print(f\"{dir_path} exists already...Removing...\")\n",
        "  try:\n",
        "    shutil.rmtree(dir_path)\n",
        "    print(f\"Directory {dir_path} was successfully removed.\")\n",
        "  except OSError as e:\n",
        "    print(f\"Error removing directory {dir_path}: {e}\")\n",
        "else:\n",
        "  print(f\"{dir_path} does not exist...Continuing...\")\n",
        "\n",
        "!git clone -b dev https://github.com/asanchezrodriguez/grounded-sam-api.git\n",
        "%cd /content/grounded-sam-api\n",
        "!pip install -q -r requirements.txt\n",
        "%cd /content/grounded-sam-api/GroundingDINO\n",
        "!pip install -q .\n",
        "%cd /content/grounded-sam-api/segment_anything\n",
        "!pip install -q .\n",
        "\n",
        "\n",
        "import shlex\n",
        "import subprocess\n",
        "from pathlib import Path\n",
        "from typing import Union\n",
        "\n",
        "id_rsa_file = \"/content/grounded-sam-api/id_rsa\"\n",
        "id_rsa_pub_file = \"/content/grounded-sam-api/id_rsa.pub\"\n",
        "if os.path.exists(id_rsa_file):\n",
        "    os.remove(id_rsa_file)\n",
        "if os.path.exists(id_rsa_pub_file):\n",
        "    os.remove(id_rsa_pub_file)\n",
        "\n",
        "def gen_key(path: Union[str, Path]) -> None:\n",
        "    path = Path(path)\n",
        "    arg_string = f'ssh-keygen -t rsa -b 4096 -N \"\" -q -f {path.as_posix()}'\n",
        "    args = shlex.split(arg_string)\n",
        "    subprocess.run(args, check=True)\n",
        "    path.chmod(0o600)\n",
        "\n",
        "ssh_name = \"id_rsa\"\n",
        "ssh_path = Path(os.path.dirname(os.getcwd())) / ssh_name\n",
        "gen_key(ssh_path)"
      ]
    },
    {
      "cell_type": "markdown",
      "source": [
        "PART 2 - MOUNT THE GDRIVE TO GET ACCESS TO ORIGINAL IMAGES TO BE MASKED"
      ],
      "metadata": {
        "id": "uUQ0CIXz7JzK"
      }
    },
    {
      "cell_type": "code",
      "source": [
        "import os\n",
        "from google.colab import drive\n",
        "\n",
        "# Mount Google Drive\n",
        "drive.mount('/content/gdrive')\n",
        "image_path = \"/content/gdrive/My Drive/clothyai_images/jumper_black.jpeg\"\n",
        "if os.path.exists(image_path):\n",
        "    file_size = os.path.getsize(image_path)\n",
        "    print(\"File size:\", file_size, \"bytes\")\n",
        "else:\n",
        "    print(\"File does not exist.\")"
      ],
      "metadata": {
        "colab": {
          "base_uri": "https://localhost:8080/"
        },
        "id": "dp0HgMSY7Q6S",
        "outputId": "4a01b89c-11ce-42b4-af34-b6ffa17b705d"
      },
      "execution_count": 12,
      "outputs": [
        {
          "output_type": "stream",
          "name": "stdout",
          "text": [
            "Drive already mounted at /content/gdrive; to attempt to forcibly remount, call drive.mount(\"/content/gdrive\", force_remount=True).\n",
            "File size: 87090 bytes\n"
          ]
        }
      ]
    },
    {
      "cell_type": "markdown",
      "source": [
        "PART 3 - DEPLOY THE API AND TUNNEL IT VIA NGROK"
      ],
      "metadata": {
        "id": "AsshOq8v7UoG"
      }
    },
    {
      "cell_type": "code",
      "source": [
        "%cd /content/grounded-sam-api\n",
        "\n",
        "!wget https://bin.equinox.io/c/4VmDzA7iaHb/ngrok-stable-linux-amd64.zip\n",
        "!unzip ngrok-stable-linux-amd64.zip\n",
        "!sudo mv ngrok /usr/local/bin\n",
        "\n",
        "!ngrok authtoken 2PLUpjKnFtNKYxtzZcBJ0aoVow6_5ZtzGehm2DYtJKTh2D1jC\n",
        "\n",
        "import subprocess\n",
        "\n",
        "p = subprocess.Popen(\"uvicorn server:app --reload --host 0.0.0.0 --port 8000\", shell=True)\n",
        "\n",
        "# Start ngrok as a subprocess\n",
        "ngrok_process = subprocess.Popen([\"ngrok\", \"http\", \"8000\"])\n",
        "\n",
        "# Wait for ngrok to start up and get the public URL\n",
        "while True:\n",
        "    try:\n",
        "        ngrok_api = subprocess.check_output(\"curl http://localhost:4040/api/tunnels\", shell=True)\n",
        "        #ngrok_url = ngrok_api.decode(\"utf-8\").split(\"public_url\")[1].split(\":\")[0].split('\"')[0]\n",
        "        ngrok_url = ngrok_api.decode(\"utf-8\").split(\"public_url\")[1]\n",
        "        print(\"ngrok tunnel:\", ngrok_url)\n",
        "        break\n",
        "    except:\n",
        "        continue"
      ],
      "metadata": {
        "colab": {
          "base_uri": "https://localhost:8080/"
        },
        "id": "5UZFTUU9odT7",
        "outputId": "8f1f7ca4-96b6-4708-eda6-9f9985ec32da"
      },
      "execution_count": 13,
      "outputs": [
        {
          "output_type": "stream",
          "name": "stdout",
          "text": [
            "/content/grounded-sam-api\n",
            "--2023-05-05 15:36:21--  https://bin.equinox.io/c/4VmDzA7iaHb/ngrok-stable-linux-amd64.zip\n",
            "Resolving bin.equinox.io (bin.equinox.io)... 54.161.241.46, 18.205.222.128, 54.237.133.81, ...\n",
            "Connecting to bin.equinox.io (bin.equinox.io)|54.161.241.46|:443... connected.\n",
            "HTTP request sent, awaiting response... 200 OK\n",
            "Length: 13921656 (13M) [application/octet-stream]\n",
            "Saving to: ‘ngrok-stable-linux-amd64.zip’\n",
            "\n",
            "ngrok-stable-linux- 100%[===================>]  13.28M  12.8MB/s    in 1.0s    \n",
            "\n",
            "2023-05-05 15:36:23 (12.8 MB/s) - ‘ngrok-stable-linux-amd64.zip’ saved [13921656/13921656]\n",
            "\n",
            "Archive:  ngrok-stable-linux-amd64.zip\n",
            "  inflating: ngrok                   \n",
            "Authtoken saved to configuration file: /root/.ngrok2/ngrok.yml\n",
            "ngrok tunnel: \":\"https://ae81-34-141-227-15.ngrok-free.app\",\"proto\":\"https\",\"config\":{\"addr\":\"http://localhost:8000\",\"inspect\":true},\"metrics\":{\"conns\":{\"count\":0,\"gauge\":0,\"rate1\":0,\"rate5\":0,\"rate15\":0,\"p50\":0,\"p90\":0,\"p95\":0,\"p99\":0},\"http\":{\"count\":0,\"rate1\":0,\"rate5\":0,\"rate15\":0,\"p50\":0,\"p90\":0,\"p95\":0,\"p99\":0}}}],\"uri\":\"/api/tunnels\"}\n",
            "\n"
          ]
        }
      ]
    }
  ],
  "metadata": {
    "accelerator": "GPU",
    "colab": {
      "provenance": []
    },
    "gpuClass": "standard",
    "kernelspec": {
      "display_name": "Python 3",
      "name": "python3"
    },
    "language_info": {
      "name": "python"
    }
  },
  "nbformat": 4,
  "nbformat_minor": 0
}